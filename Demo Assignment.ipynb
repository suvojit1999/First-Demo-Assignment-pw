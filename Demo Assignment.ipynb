{
 "cells": [
  {
   "cell_type": "code",
   "execution_count": null,
   "id": "f5ef61ef-ed74-4983-af91-7ad2c26c7339",
   "metadata": {},
   "outputs": [],
   "source": [
    "#Answers to the demo questions given as demo assignment: 20/03/24"
   ]
  },
  {
   "cell_type": "code",
   "execution_count": null,
   "id": "a77b1d70-4e7b-46d9-a30b-d6be16a4c647",
   "metadata": {
    "slideshow": {
     "slide_type": "slide"
    },
    "tags": []
   },
   "outputs": [],
   "source": [
    "#Q1: What is HTML, what is its role in WEB DEVELOPMENT?\n",
    "\n",
    "#A: HTML, also known as Hyper Text Markup Language is a scripting language that is used to structure any webpages and their content. HTML serves as the basic structure of a website and instructs the browser what content to display and how those are arranged.\n"
   ]
  },
  {
   "cell_type": "code",
   "execution_count": null,
   "id": "ab58afe3-a04b-4990-a79b-9c88d3ab0590",
   "metadata": {},
   "outputs": [],
   "source": [
    "#Q2: What is web development?\n",
    "\n",
    "#A: Web development refers to creation, building and mantenance of websites and webpages."
   ]
  },
  {
   "cell_type": "code",
   "execution_count": null,
   "id": "42fdb95d-edad-4bf8-9c42-376b0141ed00",
   "metadata": {},
   "outputs": [],
   "source": [
    "#Q3: What are the core technologies used in web development?\n",
    "\n",
    "#A: For frontend, some popular technologies are HTML, CSS, JavaScript. And for backend,some popular technologies are Node.js, MongoDB, React.JS etc."
   ]
  },
  {
   "cell_type": "code",
   "execution_count": null,
   "id": "8e0d8a9f-78e5-4792-ad62-f4bcf0549a49",
   "metadata": {},
   "outputs": [],
   "source": [
    "#Q4: What is CSS and what is its purpose?\n",
    "\n",
    "#A: CSS or Cascading Style Sheets is a style sheet language that is used to specify the presentation and styling of webpages structured using HTML. CSS is used in web development to separate the content and it's presentation for the case of organizing the code in a better and more efficient way."
   ]
  },
  {
   "cell_type": "code",
   "execution_count": null,
   "id": "85eea75d-8e4f-42cd-b33f-f2a5f0d7bcd4",
   "metadata": {},
   "outputs": [],
   "source": [
    "#Q5: What are the basic data types in JavaScript?\n",
    "\n",
    "#A: Number, String, Boolean, Null, Symbol, Object etc."
   ]
  }
 ],
 "metadata": {
  "kernelspec": {
   "display_name": "Python 3 (ipykernel)",
   "language": "python",
   "name": "python3"
  },
  "language_info": {
   "codemirror_mode": {
    "name": "ipython",
    "version": 3
   },
   "file_extension": ".py",
   "mimetype": "text/x-python",
   "name": "python",
   "nbconvert_exporter": "python",
   "pygments_lexer": "ipython3",
   "version": "3.10.8"
  }
 },
 "nbformat": 4,
 "nbformat_minor": 5
}
